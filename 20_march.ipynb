{
 "cells": [
  {
   "cell_type": "markdown",
   "id": "7e936ee1-726b-4852-95bc-cd88b2fd358f",
   "metadata": {},
   "source": [
    "Q1. What is data encoding? How is it useful in data science?"
   ]
  },
  {
   "cell_type": "markdown",
   "id": "3c603c41-b4ba-4c62-9e4d-05bd08de3ac6",
   "metadata": {},
   "source": [
    "Data encoding involves converting a sequence of text characters into binary code so computers, which operate using binary numbers, can process, store, or transmit that textual information. Decoding occurs when the information is then translated from binary form into a readable version.\n",
    "\n",
    "Data encoding is the process of converting data from one form to another, usually for the purpose of transmission, storage, or analysis. Data decoding is the reverse process of converting data back to its original form, usually for the purpose of interpretation or use.\n"
   ]
  },
  {
   "cell_type": "markdown",
   "id": "1abefcc8-b5e4-4294-aa37-d701575ca4e3",
   "metadata": {},
   "source": [
    "Q2. What is nominal encoding? Provide an example of how you would use it in a real-world scenario."
   ]
  },
  {
   "cell_type": "markdown",
   "id": "9c360abc-b06e-4c7a-bf5b-96f630da108c",
   "metadata": {},
   "source": [
    "While encoding Nominal data, we have to consider the presence or absence of a feature. In such a case, no notion of order is present. For example, the city a person lives in. For the data, it is important to retain where a person lives. Here, We do not have any order or sequence,\n"
   ]
  },
  {
   "cell_type": "markdown",
   "id": "6d6aea69-1f27-42f9-8b10-8a346a2d8016",
   "metadata": {},
   "source": [
    "Q3. In what situations is nominal encoding preferred over one-hot encoding? Provide a practical example."
   ]
  },
  {
   "cell_type": "markdown",
   "id": "c63f118d-2f71-42e4-a96f-515fdeb46fa9",
   "metadata": {},
   "source": [
    "To prevent biases from being introduced, One-Hot Encoding is preferable for nominal data (where there is no inherent order among categories). Label encoding, however, might be more appropriate for ordinal data (where categories naturally have an order). The effect of dimensionality should also be taken into account."
   ]
  },
  {
   "cell_type": "markdown",
   "id": "d90e0df2-227d-4133-a5b0-e8cc7cf79c20",
   "metadata": {},
   "source": [
    "Q4. Suppose you have a dataset containing categorical data with 5 unique values. Which encoding\n",
    "technique would you use to transform this data into a format suitable for machine learning algorithms?\n",
    "Explain why you made this choice."
   ]
  },
  {
   "cell_type": "markdown",
   "id": "06d458ff-ef71-4431-947c-2d1e5711a6ec",
   "metadata": {},
   "source": [
    "\t\t\tEye Color\n",
    "Hair Color\tBlue\tGreen\tBrown\tBlack\tTotal\t\t\n",
    "-----------------------------------------------------\n",
    "Blonde\t\t2\t1\t2\t1\t6\n",
    "Red\t\t1\t1\t2\t0\t4\n",
    "Brown\t\t1\t0\t4\t2    \t7\n",
    "Black\t\t1\t0\t2\t0\t3\n",
    "-----------------------------------------------------\n",
    "Total\t\t5\t2\t10\t3   \t20\n",
    "\n",
    "\n",
    "We have to go with normal encoding because there have no many number of parameters use so it is easy to understand easly.by normal encoding."
   ]
  },
  {
   "cell_type": "markdown",
   "id": "a27873ff-4789-4aff-97a1-a1034d26dd43",
   "metadata": {},
   "source": [
    "Q5. In a machine learning project, you have a dataset with 1000 rows and 5 columns. Two of the columns\n",
    "are categorical, and the remaining three columns are numerical. If you were to use nominal encoding to\n",
    "transform the categorical data, how many new columns would be created? Show your calculations."
   ]
  },
  {
   "cell_type": "code",
   "execution_count": 1,
   "id": "7157d7c5-0a43-49c6-9ebf-756fc7f6f709",
   "metadata": {},
   "outputs": [
    {
     "name": "stdout",
     "output_type": "stream",
     "text": [
      "     Name Qualification\n",
      "0     Jai           Msc\n",
      "1  Princi            MA\n",
      "2  Gaurav           MCA\n",
      "3    Anuj           Phd\n"
     ]
    }
   ],
   "source": [
    "#take a example of the dataset sample:-\n",
    "\n",
    "# Import pandas package\n",
    "import pandas as pd\n",
    " \n",
    "# Define a dictionary containing employee data\n",
    "data = {'Name':['Jai', 'Princi', 'Gaurav', 'Anuj'],\n",
    "        'Age':[27, 24, 22, 32],\n",
    "        'Address':['Delhi', 'Kanpur', 'Allahabad', 'Kannauj'],\n",
    "        'Qualification':['Msc', 'MA', 'MCA', 'Phd']}\n",
    " \n",
    "# Convert the dictionary into DataFrame \n",
    "df = pd.DataFrame(data)\n",
    " \n",
    "# select two columns\n",
    "print(df[['Name', 'Qualification']])\n"
   ]
  },
  {
   "cell_type": "markdown",
   "id": "2dccbc34-7a9a-4b8b-8d89-58d8f3db31ca",
   "metadata": {},
   "source": [
    "Q6. You are working with a dataset containing information about different types of animals, including their\n",
    "species, habitat, and diet. Which encoding technique would you use to transform the categorical data into\n",
    "a format suitable for machine learning algorithms? Justify your answer."
   ]
  },
  {
   "cell_type": "code",
   "execution_count": 2,
   "id": "f84cdba2-de22-4bcd-88b8-98ce4ed725cb",
   "metadata": {},
   "outputs": [
    {
     "name": "stdout",
     "output_type": "stream",
     "text": [
      "     Name habits\n",
      "0   Tiger   roar\n",
      "1    Lion   roar\n",
      "2  monkey   bhew\n",
      "3  lepord   fhew\n",
      "4    wolf   dare\n"
     ]
    }
   ],
   "source": [
    "# Import Required Library \n",
    "import pandas as pd \n",
    "  \n",
    "# Create a dictionary for the dataframe \n",
    "dict = {'Name' : ['Tiger', 'Lion', \n",
    "                  'monkey', 'lepord', \n",
    "                  'wolf'], \n",
    "        'habits':['roar', 'roar', 'bhew', 'fhew', 'dare'], \n",
    "        } \n",
    "  \n",
    "# Converting Dictionary to Pandas Dataframe \n",
    "df = pd.DataFrame(dict) \n",
    "  \n",
    "# Print Dataframe \n",
    "print(df) "
   ]
  },
  {
   "cell_type": "markdown",
   "id": "e5a7830a-6d19-4251-877c-02f01e22a822",
   "metadata": {},
   "source": [
    "Q7.You are working on a project that involves predicting customer churn for a telecommunications\n",
    "company. You have a dataset with 5 features, including the customer's gender, age, contract type,\n",
    "monthly charges, and tenure. Which encoding technique(s) would you use to transform the categorical\n",
    "data into numerical data? Provide a step-by-step explanation of how you would implement the encoding."
   ]
  },
  {
   "cell_type": "markdown",
   "id": "b34ac0e9-5179-4cb0-ac03-d6b93375dfe9",
   "metadata": {},
   "source": [
    "1.Predicting customer churn is critical for telecommunication companies to be able to effectively retain customers. It is more costly to acquire new customers than to retain existing ones. For this reason, large telecommunications corporations are seeking to develop models to predict which customers are more likely to change and take actions accordingly.\n",
    "\n",
    "In this article, we build a model to predict how likely a customer will churn by analyzing its characteristics: (1) demographic information, (2) account information, and (3) services information. The objective is to obtain a data-driven solution that will allow us to reduce churn rates and, as a consequence, to increase customer satisfaction and corporation revenue.\n",
    "\n",
    "2Data set.\n",
    "\n",
    "The data set used in this article is available in the Kaggle (CC BY-NC-ND) and contains nineteen columns (independent variables) that indicate the characteristics of the clients of a fictional telecommunications corporation. The Churn column (response variable) indicates whether the customer departed within the last month or not. The class No includes the clients that did not leave the company last month, while the class Yes contains the clients that decided to terminate their relations with the company. The objective of the analysis is to obtain the relation between the customer’s characteristics and the churn.\n",
    "\n",
    "3.Data Reading\n",
    "The first step of the analysis consists of reading and storing the data in a Pandas data frame using the pandas.read_csv function.\n",
    "\n",
    "Note:- According to the company manner it will be decorete and\n",
    "\n"
   ]
  }
 ],
 "metadata": {
  "kernelspec": {
   "display_name": "Python 3 (ipykernel)",
   "language": "python",
   "name": "python3"
  },
  "language_info": {
   "codemirror_mode": {
    "name": "ipython",
    "version": 3
   },
   "file_extension": ".py",
   "mimetype": "text/x-python",
   "name": "python",
   "nbconvert_exporter": "python",
   "pygments_lexer": "ipython3",
   "version": "3.10.8"
  }
 },
 "nbformat": 4,
 "nbformat_minor": 5
}
